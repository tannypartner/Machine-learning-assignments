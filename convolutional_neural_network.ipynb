{
 "cells": [
  {
   "cell_type": "markdown",
   "metadata": {
    "colab_type": "text",
    "id": "3DR-eO17geWu"
   },
   "source": [
    "# Convolutional Neural Network"
   ]
  },
  {
   "cell_type": "markdown",
   "metadata": {
    "colab_type": "text",
    "id": "EMefrVPCg-60"
   },
   "source": [
    "### Importing the libraries"
   ]
  },
  {
   "cell_type": "code",
   "execution_count": 1,
   "metadata": {
    "colab": {},
    "colab_type": "code",
    "id": "sCV30xyVhFbE"
   },
   "outputs": [
    {
     "name": "stderr",
     "output_type": "stream",
     "text": [
      "Using TensorFlow backend.\n"
     ]
    }
   ],
   "source": [
    "import tensorflow as tf\n",
    "from keras.preprocessing.image import ImageDataGenerator"
   ]
  },
  {
   "cell_type": "code",
   "execution_count": 2,
   "metadata": {
    "colab": {},
    "colab_type": "code",
    "id": "FIleuCAjoFD8"
   },
   "outputs": [
    {
     "data": {
      "text/plain": [
       "'1.13.1'"
      ]
     },
     "execution_count": 2,
     "metadata": {},
     "output_type": "execute_result"
    }
   ],
   "source": [
    "tf.__version__"
   ]
  },
  {
   "cell_type": "markdown",
   "metadata": {
    "colab_type": "text",
    "id": "oxQxCBWyoGPE"
   },
   "source": [
    "## Part 1 - Data Preprocessing"
   ]
  },
  {
   "cell_type": "markdown",
   "metadata": {
    "colab_type": "text",
    "id": "MvE-heJNo3GG"
   },
   "source": [
    "### Preprocessing the Training set"
   ]
  },
  {
   "cell_type": "code",
   "execution_count": 3,
   "metadata": {
    "colab": {},
    "colab_type": "code",
    "id": "0koUcJMJpEBD"
   },
   "outputs": [
    {
     "name": "stdout",
     "output_type": "stream",
     "text": [
      "Found 8000 images belonging to 2 classes.\n"
     ]
    }
   ],
   "source": [
    "train_datagen = ImageDataGenerator(rescale = 1./255,\n",
    "                                   shear_range = 0.2,\n",
    "                                   zoom_range = 0.2,\n",
    "                                   horizontal_flip = True)\n",
    "training_set = train_datagen.flow_from_directory('dataset/training_set',\n",
    "                                                 target_size = (64, 64),\n",
    "                                                 batch_size = 32,\n",
    "                                                 class_mode = 'binary')"
   ]
  },
  {
   "cell_type": "markdown",
   "metadata": {
    "colab_type": "text",
    "id": "mrCMmGw9pHys"
   },
   "source": [
    "### Preprocessing the Test set"
   ]
  },
  {
   "cell_type": "code",
   "execution_count": 4,
   "metadata": {
    "colab": {},
    "colab_type": "code",
    "id": "SH4WzfOhpKc3"
   },
   "outputs": [
    {
     "name": "stdout",
     "output_type": "stream",
     "text": [
      "Found 2000 images belonging to 2 classes.\n"
     ]
    }
   ],
   "source": [
    "test_datagen = ImageDataGenerator(rescale = 1./255)\n",
    "test_set = test_datagen.flow_from_directory('dataset/test_set',\n",
    "                                            target_size = (64, 64),\n",
    "                                            batch_size = 32,\n",
    "                                            class_mode = 'binary')"
   ]
  },
  {
   "cell_type": "markdown",
   "metadata": {
    "colab_type": "text",
    "id": "af8O4l90gk7B"
   },
   "source": [
    "## Part 2 - Building the CNN"
   ]
  },
  {
   "cell_type": "markdown",
   "metadata": {
    "colab_type": "text",
    "id": "ces1gXY2lmoX"
   },
   "source": [
    "### Initialising the CNN"
   ]
  },
  {
   "cell_type": "code",
   "execution_count": 5,
   "metadata": {
    "colab": {},
    "colab_type": "code",
    "id": "SAUt4UMPlhLS"
   },
   "outputs": [],
   "source": [
    "cnn = tf.keras.models.Sequential()"
   ]
  },
  {
   "cell_type": "markdown",
   "metadata": {
    "colab_type": "text",
    "id": "u5YJj_XMl5LF"
   },
   "source": [
    "### Step 1 - Convolution"
   ]
  },
  {
   "cell_type": "code",
   "execution_count": 6,
   "metadata": {
    "colab": {},
    "colab_type": "code",
    "id": "XPzPrMckl-hV"
   },
   "outputs": [
    {
     "name": "stdout",
     "output_type": "stream",
     "text": [
      "WARNING:tensorflow:From C:\\Users\\Tannypartner\\Anaconda3\\lib\\site-packages\\tensorflow\\python\\ops\\resource_variable_ops.py:435: colocate_with (from tensorflow.python.framework.ops) is deprecated and will be removed in a future version.\n",
      "Instructions for updating:\n",
      "Colocations handled automatically by placer.\n"
     ]
    }
   ],
   "source": [
    "cnn.add(tf.keras.layers.Conv2D(filters=32, kernel_size=3, activation='relu', input_shape=[64, 64, 3]))"
   ]
  },
  {
   "cell_type": "markdown",
   "metadata": {
    "colab_type": "text",
    "id": "tf87FpvxmNOJ"
   },
   "source": [
    "### Step 2 - Pooling"
   ]
  },
  {
   "cell_type": "code",
   "execution_count": 7,
   "metadata": {
    "colab": {},
    "colab_type": "code",
    "id": "ncpqPl69mOac"
   },
   "outputs": [],
   "source": [
    "cnn.add(tf.keras.layers.MaxPool2D(pool_size=2, strides=2))"
   ]
  },
  {
   "cell_type": "markdown",
   "metadata": {
    "colab_type": "text",
    "id": "xaTOgD8rm4mU"
   },
   "source": [
    "### Adding a second convolutional layer"
   ]
  },
  {
   "cell_type": "code",
   "execution_count": 8,
   "metadata": {
    "colab": {},
    "colab_type": "code",
    "id": "i_-FZjn_m8gk"
   },
   "outputs": [],
   "source": [
    "cnn.add(tf.keras.layers.Conv2D(filters=32, kernel_size=3, activation='relu'))\n",
    "cnn.add(tf.keras.layers.MaxPool2D(pool_size=2, strides=2))"
   ]
  },
  {
   "cell_type": "markdown",
   "metadata": {
    "colab_type": "text",
    "id": "tmiEuvTunKfk"
   },
   "source": [
    "### Step 3 - Flattening"
   ]
  },
  {
   "cell_type": "code",
   "execution_count": 9,
   "metadata": {
    "colab": {},
    "colab_type": "code",
    "id": "6AZeOGCvnNZn"
   },
   "outputs": [],
   "source": [
    "cnn.add(tf.keras.layers.Flatten())"
   ]
  },
  {
   "cell_type": "markdown",
   "metadata": {
    "colab_type": "text",
    "id": "dAoSECOm203v"
   },
   "source": [
    "### Step 4 - Full Connection"
   ]
  },
  {
   "cell_type": "code",
   "execution_count": 10,
   "metadata": {
    "colab": {},
    "colab_type": "code",
    "id": "8GtmUlLd26Nq"
   },
   "outputs": [],
   "source": [
    "cnn.add(tf.keras.layers.Dense(units=128, activation='relu'))"
   ]
  },
  {
   "cell_type": "markdown",
   "metadata": {
    "colab_type": "text",
    "id": "yTldFvbX28Na"
   },
   "source": [
    "### Step 5 - Output Layer"
   ]
  },
  {
   "cell_type": "code",
   "execution_count": 11,
   "metadata": {
    "colab": {},
    "colab_type": "code",
    "id": "1p_Zj1Mc3Ko_"
   },
   "outputs": [],
   "source": [
    "cnn.add(tf.keras.layers.Dense(units=1, activation='sigmoid'))"
   ]
  },
  {
   "cell_type": "markdown",
   "metadata": {
    "colab_type": "text",
    "id": "D6XkI90snSDl"
   },
   "source": [
    "## Part 3 - Training the CNN"
   ]
  },
  {
   "cell_type": "markdown",
   "metadata": {
    "colab_type": "text",
    "id": "vfrFQACEnc6i"
   },
   "source": [
    "### Compiling the CNN"
   ]
  },
  {
   "cell_type": "code",
   "execution_count": 12,
   "metadata": {
    "colab": {},
    "colab_type": "code",
    "id": "NALksrNQpUlJ"
   },
   "outputs": [],
   "source": [
    "cnn.compile(optimizer = 'adam', loss = 'binary_crossentropy', metrics = ['accuracy'])"
   ]
  },
  {
   "cell_type": "markdown",
   "metadata": {
    "colab_type": "text",
    "id": "ehS-v3MIpX2h"
   },
   "source": [
    "### Training the CNN on the Training set and evaluating it on the Test set"
   ]
  },
  {
   "cell_type": "code",
   "execution_count": 13,
   "metadata": {
    "colab": {},
    "colab_type": "code",
    "id": "XUj1W4PJptta"
   },
   "outputs": [
    {
     "name": "stdout",
     "output_type": "stream",
     "text": [
      "WARNING:tensorflow:From C:\\Users\\Tannypartner\\Anaconda3\\lib\\site-packages\\tensorflow\\python\\ops\\math_ops.py:3066: to_int32 (from tensorflow.python.ops.math_ops) is deprecated and will be removed in a future version.\n",
      "Instructions for updating:\n",
      "Use tf.cast instead.\n",
      "Epoch 1/25\n",
      "63/63 [==============================] - 17s 264ms/step - loss: 0.6346 - acc: 0.6465\n",
      "250/250 [==============================] - 96s 384ms/step - loss: 0.6706 - acc: 0.5874 - val_loss: 0.6346 - val_acc: 0.6465\n",
      "Epoch 2/25\n",
      "63/63 [==============================] - 7s 106ms/step - loss: 0.5760 - acc: 0.6965\n",
      "250/250 [==============================] - 52s 209ms/step - loss: 0.6080 - acc: 0.6685 - val_loss: 0.5760 - val_acc: 0.6965\n",
      "Epoch 3/25\n",
      "63/63 [==============================] - 7s 109ms/step - loss: 0.5582 - acc: 0.7295\n",
      "250/250 [==============================] - 54s 218ms/step - loss: 0.5674 - acc: 0.7040 - val_loss: 0.5582 - val_acc: 0.7295\n",
      "Epoch 4/25\n",
      "63/63 [==============================] - 7s 118ms/step - loss: 0.5212 - acc: 0.7455\n",
      "250/250 [==============================] - 56s 225ms/step - loss: 0.5435 - acc: 0.7296 - val_loss: 0.5212 - val_acc: 0.7455\n",
      "Epoch 5/25\n",
      "63/63 [==============================] - 7s 109ms/step - loss: 0.5001 - acc: 0.7590\n",
      "250/250 [==============================] - 55s 222ms/step - loss: 0.5053 - acc: 0.7524 - val_loss: 0.5001 - val_acc: 0.7590\n",
      "Epoch 6/25\n",
      "63/63 [==============================] - 6s 101ms/step - loss: 0.4944 - acc: 0.7640\n",
      "250/250 [==============================] - 53s 211ms/step - loss: 0.5029 - acc: 0.7548 - val_loss: 0.4944 - val_acc: 0.7640\n",
      "Epoch 7/25\n",
      "63/63 [==============================] - 6s 97ms/step - loss: 0.4776 - acc: 0.7705\n",
      "250/250 [==============================] - 52s 207ms/step - loss: 0.4799 - acc: 0.7673 - val_loss: 0.4776 - val_acc: 0.7705\n",
      "Epoch 8/25\n",
      "63/63 [==============================] - 7s 108ms/step - loss: 0.4724 - acc: 0.7705\n",
      "250/250 [==============================] - 51s 206ms/step - loss: 0.4618 - acc: 0.7803 - val_loss: 0.4724 - val_acc: 0.7705\n",
      "Epoch 9/25\n",
      "63/63 [==============================] - 6s 103ms/step - loss: 0.4809 - acc: 0.7675\n",
      "250/250 [==============================] - 52s 206ms/step - loss: 0.4473 - acc: 0.7878 - val_loss: 0.4809 - val_acc: 0.7675\n",
      "Epoch 10/25\n",
      "63/63 [==============================] - 6s 99ms/step - loss: 0.4704 - acc: 0.7850\n",
      "250/250 [==============================] - 51s 205ms/step - loss: 0.4325 - acc: 0.7935 - val_loss: 0.4704 - val_acc: 0.7850\n",
      "Epoch 11/25\n",
      "63/63 [==============================] - 6s 95ms/step - loss: 0.4566 - acc: 0.7910\n",
      "250/250 [==============================] - 51s 202ms/step - loss: 0.4269 - acc: 0.7944 - val_loss: 0.4566 - val_acc: 0.7910\n",
      "Epoch 12/25\n",
      "63/63 [==============================] - 7s 106ms/step - loss: 0.4535 - acc: 0.7950\n",
      "250/250 [==============================] - 52s 208ms/step - loss: 0.4159 - acc: 0.8083 - val_loss: 0.4535 - val_acc: 0.7950\n",
      "Epoch 13/25\n",
      "63/63 [==============================] - 6s 101ms/step - loss: 0.4343 - acc: 0.8065\n",
      "250/250 [==============================] - 52s 209ms/step - loss: 0.4008 - acc: 0.8156 - val_loss: 0.4343 - val_acc: 0.8065\n",
      "Epoch 14/25\n",
      "63/63 [==============================] - 6s 102ms/step - loss: 0.4459 - acc: 0.7950\n",
      "250/250 [==============================] - 51s 204ms/step - loss: 0.3939 - acc: 0.8160 - val_loss: 0.4459 - val_acc: 0.7950\n",
      "Epoch 15/25\n",
      "63/63 [==============================] - 6s 99ms/step - loss: 0.4523 - acc: 0.7980\n",
      "250/250 [==============================] - 52s 208ms/step - loss: 0.3837 - acc: 0.8266 - val_loss: 0.4523 - val_acc: 0.7980\n",
      "Epoch 16/25\n",
      "63/63 [==============================] - 6s 94ms/step - loss: 0.4651 - acc: 0.7970\n",
      "250/250 [==============================] - 49s 196ms/step - loss: 0.3718 - acc: 0.8296 - val_loss: 0.4651 - val_acc: 0.7970\n",
      "Epoch 17/25\n",
      "63/63 [==============================] - 6s 98ms/step - loss: 0.4478 - acc: 0.8025\n",
      "250/250 [==============================] - 51s 202ms/step - loss: 0.3633 - acc: 0.8369 - val_loss: 0.4478 - val_acc: 0.8025\n",
      "Epoch 18/25\n",
      "63/63 [==============================] - 7s 113ms/step - loss: 0.4466 - acc: 0.8070\n",
      "250/250 [==============================] - 60s 241ms/step - loss: 0.3585 - acc: 0.8347 - val_loss: 0.4466 - val_acc: 0.8070\n",
      "Epoch 19/25\n",
      "63/63 [==============================] - 7s 113ms/step - loss: 0.4752 - acc: 0.8085\n",
      "250/250 [==============================] - 61s 243ms/step - loss: 0.3442 - acc: 0.8479 - val_loss: 0.4752 - val_acc: 0.8085\n",
      "Epoch 20/25\n",
      "63/63 [==============================] - 7s 118ms/step - loss: 0.4550 - acc: 0.8100\n",
      "250/250 [==============================] - 61s 243ms/step - loss: 0.3398 - acc: 0.8494 - val_loss: 0.4550 - val_acc: 0.8100\n",
      "Epoch 21/25\n",
      "63/63 [==============================] - 7s 115ms/step - loss: 0.4666 - acc: 0.8035\n",
      "250/250 [==============================] - 60s 239ms/step - loss: 0.3305 - acc: 0.8536 - val_loss: 0.4666 - val_acc: 0.8035\n",
      "Epoch 22/25\n",
      "63/63 [==============================] - 7s 106ms/step - loss: 0.4605 - acc: 0.8055\n",
      "250/250 [==============================] - 60s 240ms/step - loss: 0.3261 - acc: 0.8514 - val_loss: 0.4605 - val_acc: 0.8055\n",
      "Epoch 23/25\n",
      "63/63 [==============================] - 7s 114ms/step - loss: 0.4840 - acc: 0.8095\n",
      "250/250 [==============================] - 60s 240ms/step - loss: 0.3042 - acc: 0.8660 - val_loss: 0.4840 - val_acc: 0.8095\n",
      "Epoch 24/25\n",
      "63/63 [==============================] - 7s 116ms/step - loss: 0.4450 - acc: 0.8225\n",
      "250/250 [==============================] - 62s 247ms/step - loss: 0.3047 - acc: 0.8669 - val_loss: 0.4450 - val_acc: 0.8225\n",
      "Epoch 25/25\n",
      "63/63 [==============================] - 7s 113ms/step - loss: 0.4770 - acc: 0.8090\n",
      "250/250 [==============================] - 61s 243ms/step - loss: 0.2989 - acc: 0.8716 - val_loss: 0.4770 - val_acc: 0.8090\n"
     ]
    },
    {
     "data": {
      "text/plain": [
       "<tensorflow.python.keras.callbacks.History at 0x197a9e27d68>"
      ]
     },
     "execution_count": 13,
     "metadata": {},
     "output_type": "execute_result"
    }
   ],
   "source": [
    "cnn.fit(x = training_set, validation_data = test_set, epochs = 25)"
   ]
  },
  {
   "cell_type": "markdown",
   "metadata": {
    "colab_type": "text",
    "id": "U3PZasO0006Z"
   },
   "source": [
    "## Part 4 - Making a single prediction"
   ]
  },
  {
   "cell_type": "code",
   "execution_count": 15,
   "metadata": {
    "colab": {},
    "colab_type": "code",
    "id": "gsSiWEJY1BPB"
   },
   "outputs": [],
   "source": [
    "import numpy as np\n",
    "from keras.preprocessing import image\n",
    "test_image = image.load_img('dataset/single_prediction/cat_or_dog_1.jpg', target_size = (64, 64))\n",
    "test_image = image.img_to_array(test_image)\n",
    "test_image = np.expand_dims(test_image, axis = 0)\n",
    "result = cnn.predict(test_image)\n",
    "training_set.class_indices\n",
    "if result[0][0] == 1:\n",
    "  prediction = 'dog'\n",
    "else:\n",
    "  prediction = 'cat'"
   ]
  },
  {
   "cell_type": "code",
   "execution_count": 16,
   "metadata": {
    "colab": {},
    "colab_type": "code",
    "id": "ED9KB3I54c1i"
   },
   "outputs": [
    {
     "name": "stdout",
     "output_type": "stream",
     "text": [
      "dog\n"
     ]
    }
   ],
   "source": [
    "print(prediction)"
   ]
  },
  {
   "cell_type": "code",
   "execution_count": null,
   "metadata": {},
   "outputs": [],
   "source": []
  }
 ],
 "metadata": {
  "colab": {
   "collapsed_sections": [],
   "name": "convolutional_neural_network.ipynb",
   "provenance": [],
   "toc_visible": true
  },
  "kernelspec": {
   "display_name": "Python 3",
   "language": "python",
   "name": "python3"
  },
  "language_info": {
   "codemirror_mode": {
    "name": "ipython",
    "version": 3
   },
   "file_extension": ".py",
   "mimetype": "text/x-python",
   "name": "python",
   "nbconvert_exporter": "python",
   "pygments_lexer": "ipython3",
   "version": "3.7.3"
  }
 },
 "nbformat": 4,
 "nbformat_minor": 1
}
